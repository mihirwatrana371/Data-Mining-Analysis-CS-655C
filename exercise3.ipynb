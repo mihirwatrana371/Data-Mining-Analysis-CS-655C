{
  "nbformat": 4,
  "nbformat_minor": 0,
  "metadata": {
    "colab": {
      "provenance": []
    },
    "kernelspec": {
      "name": "python3",
      "display_name": "Python 3"
    },
    "language_info": {
      "name": "python"
    }
  },
  "cells": [
    {
      "cell_type": "code",
      "execution_count": 1,
      "metadata": {
        "colab": {
          "base_uri": "https://localhost:8080/"
        },
        "id": "aUwkJ7u5KK1i",
        "outputId": "a3318b3b-97a9-4ea2-e6c9-d26ad70c3252"
      },
      "outputs": [
        {
          "output_type": "stream",
          "name": "stdout",
          "text": [
            "Enter name, age, height (or press enter to stop): Mihir, 20, 180\n",
            "Enter name, age, height (or press enter to stop): \n",
            "[('Mihir', ' 20', ' 180')]\n"
          ]
        }
      ],
      "source": [
        "data = []\n",
        "while True:\n",
        "    entry = input(\"Enter name, age, height (or press enter to stop): \")\n",
        "    if not entry:\n",
        "        break\n",
        "    data.append(tuple(entry.split(\",\")))\n",
        "\n",
        "sorted_data = sorted(data, key=lambda x: (x[0], int(x[1]), int(x[2])))\n",
        "print(sorted_data)"
      ]
    },
    {
      "cell_type": "code",
      "source": [
        "from collections import defaultdict\n",
        "\n",
        "text = input(\"Enter text: \")\n",
        "words = text.split()\n",
        "freq_dict = defaultdict(int)\n",
        "\n",
        "for word in words:\n",
        "    freq_dict[word] += 1\n",
        "\n",
        "print(dict(freq_dict))"
      ],
      "metadata": {
        "colab": {
          "base_uri": "https://localhost:8080/"
        },
        "id": "cWnQKYDaKe4u",
        "outputId": "8513a1f2-7381-4c1c-e9a5-4ee50fde8a79"
      },
      "execution_count": 2,
      "outputs": [
        {
          "output_type": "stream",
          "name": "stdout",
          "text": [
            "Enter text: mihir\n",
            "{'mihir': 1}\n"
          ]
        }
      ]
    },
    {
      "cell_type": "code",
      "source": [
        "students = {\n",
        "    'UE183001': 'Avish', 'UE183002': 'Bhavya', 'UE183003': 'Tanya',\n",
        "    'UE183004': 'Rahul', 'UE183005': 'Simran', 'UE183006': 'Neha',\n",
        "    'UE183007': 'Arjun', 'UE183008': 'Priya', 'UE183009': 'Kabir', 'UE183010': 'Maya'\n",
        "}\n",
        "\n",
        "marks = [\n",
        "    ('UE183001', 'CS', 94), ('UE183002', 'CS', 64), ('UE183001', 'RV', 94),\n",
        "    ('UE183002', 'CS', 74), ('UE183003', 'CS', 64), ('UE183004', 'RV', 85),\n",
        "    ('UE183005', 'CS', 90), ('UE183006', 'CS', 78), ('UE183007', 'RV', 82),\n",
        "    ('UE183008', 'CS', 88), ('UE183009', 'RV', 91), ('UE183010', 'CS', 77)\n",
        "]\n",
        "\n",
        "total_marks = defaultdict(int)\n",
        "\n",
        "for sid, subject, mark in marks:\n",
        "    total_marks[sid] += mark\n",
        "\n",
        "for sid, name in students.items():\n",
        "    print(f\"{name}: {total_marks[sid]}\")"
      ],
      "metadata": {
        "colab": {
          "base_uri": "https://localhost:8080/"
        },
        "id": "s6XYcl9wKlHD",
        "outputId": "a7e27ba4-6be6-4772-de1a-d3f7542ffe72"
      },
      "execution_count": 3,
      "outputs": [
        {
          "output_type": "stream",
          "name": "stdout",
          "text": [
            "Avish: 188\n",
            "Bhavya: 138\n",
            "Tanya: 64\n",
            "Rahul: 85\n",
            "Simran: 90\n",
            "Neha: 78\n",
            "Arjun: 82\n",
            "Priya: 88\n",
            "Kabir: 91\n",
            "Maya: 77\n"
          ]
        }
      ]
    },
    {
      "cell_type": "code",
      "source": [
        "def convert_date(date_str):\n",
        "    month_map = {\n",
        "        'JAN': '01', 'FEB': '02', 'MAR': '03', 'APR': '04', 'MAY': '05', 'JUN': '06',\n",
        "        'JUL': '07', 'AUG': '08', 'SEP': '09', 'OCT': '10', 'NOV': '11', 'DEC': '12'\n",
        "    }\n",
        "    day, month, year = date_str.split(\"-\")\n",
        "    year = \"19\" + year if int(year) > 30 else \"20\" + year\n",
        "    return (year, month_map[month], day)\n",
        "\n",
        "date_input = input(\"Enter date (dd-MM-yy): \")\n",
        "print(convert_date(date_input))"
      ],
      "metadata": {
        "colab": {
          "base_uri": "https://localhost:8080/",
          "height": 315
        },
        "id": "1zblpiAJKz3H",
        "outputId": "05ad2c41-a138-48bb-958b-97c9754a0dec"
      },
      "execution_count": 5,
      "outputs": [
        {
          "name": "stdout",
          "output_type": "stream",
          "text": [
            "Enter date (dd-MM-yy): 12-12-09\n"
          ]
        },
        {
          "output_type": "error",
          "ename": "KeyError",
          "evalue": "'12'",
          "traceback": [
            "\u001b[0;31m---------------------------------------------------------------------------\u001b[0m",
            "\u001b[0;31mKeyError\u001b[0m                                  Traceback (most recent call last)",
            "\u001b[0;32m<ipython-input-5-63fded19586d>\u001b[0m in \u001b[0;36m<cell line: 0>\u001b[0;34m()\u001b[0m\n\u001b[1;32m      9\u001b[0m \u001b[0;34m\u001b[0m\u001b[0m\n\u001b[1;32m     10\u001b[0m \u001b[0mdate_input\u001b[0m \u001b[0;34m=\u001b[0m \u001b[0minput\u001b[0m\u001b[0;34m(\u001b[0m\u001b[0;34m\"Enter date (dd-MM-yy): \"\u001b[0m\u001b[0;34m)\u001b[0m\u001b[0;34m\u001b[0m\u001b[0;34m\u001b[0m\u001b[0m\n\u001b[0;32m---> 11\u001b[0;31m \u001b[0mprint\u001b[0m\u001b[0;34m(\u001b[0m\u001b[0mconvert_date\u001b[0m\u001b[0;34m(\u001b[0m\u001b[0mdate_input\u001b[0m\u001b[0;34m)\u001b[0m\u001b[0;34m)\u001b[0m\u001b[0;34m\u001b[0m\u001b[0;34m\u001b[0m\u001b[0m\n\u001b[0m",
            "\u001b[0;32m<ipython-input-5-63fded19586d>\u001b[0m in \u001b[0;36mconvert_date\u001b[0;34m(date_str)\u001b[0m\n\u001b[1;32m      6\u001b[0m     \u001b[0mday\u001b[0m\u001b[0;34m,\u001b[0m \u001b[0mmonth\u001b[0m\u001b[0;34m,\u001b[0m \u001b[0myear\u001b[0m \u001b[0;34m=\u001b[0m \u001b[0mdate_str\u001b[0m\u001b[0;34m.\u001b[0m\u001b[0msplit\u001b[0m\u001b[0;34m(\u001b[0m\u001b[0;34m\"-\"\u001b[0m\u001b[0;34m)\u001b[0m\u001b[0;34m\u001b[0m\u001b[0;34m\u001b[0m\u001b[0m\n\u001b[1;32m      7\u001b[0m     \u001b[0myear\u001b[0m \u001b[0;34m=\u001b[0m \u001b[0;34m\"19\"\u001b[0m \u001b[0;34m+\u001b[0m \u001b[0myear\u001b[0m \u001b[0;32mif\u001b[0m \u001b[0mint\u001b[0m\u001b[0;34m(\u001b[0m\u001b[0myear\u001b[0m\u001b[0;34m)\u001b[0m \u001b[0;34m>\u001b[0m \u001b[0;36m30\u001b[0m \u001b[0;32melse\u001b[0m \u001b[0;34m\"20\"\u001b[0m \u001b[0;34m+\u001b[0m \u001b[0myear\u001b[0m\u001b[0;34m\u001b[0m\u001b[0;34m\u001b[0m\u001b[0m\n\u001b[0;32m----> 8\u001b[0;31m     \u001b[0;32mreturn\u001b[0m \u001b[0;34m(\u001b[0m\u001b[0myear\u001b[0m\u001b[0;34m,\u001b[0m \u001b[0mmonth_map\u001b[0m\u001b[0;34m[\u001b[0m\u001b[0mmonth\u001b[0m\u001b[0;34m]\u001b[0m\u001b[0;34m,\u001b[0m \u001b[0mday\u001b[0m\u001b[0;34m)\u001b[0m\u001b[0;34m\u001b[0m\u001b[0;34m\u001b[0m\u001b[0m\n\u001b[0m\u001b[1;32m      9\u001b[0m \u001b[0;34m\u001b[0m\u001b[0m\n\u001b[1;32m     10\u001b[0m \u001b[0mdate_input\u001b[0m \u001b[0;34m=\u001b[0m \u001b[0minput\u001b[0m\u001b[0;34m(\u001b[0m\u001b[0;34m\"Enter date (dd-MM-yy): \"\u001b[0m\u001b[0;34m)\u001b[0m\u001b[0;34m\u001b[0m\u001b[0;34m\u001b[0m\u001b[0m\n",
            "\u001b[0;31mKeyError\u001b[0m: '12'"
          ]
        }
      ]
    },
    {
      "cell_type": "code",
      "source": [
        "dice_sums = {}\n",
        "\n",
        "for d1 in range(1, 7):\n",
        "    for d2 in range(1, 7):\n",
        "        total = d1 + d2\n",
        "        if total not in dice_sums:\n",
        "            dice_sums[total] = []\n",
        "        dice_sums[total].append((d1, d2))\n",
        "\n",
        "for total, pairs in dice_sums.items():\n",
        "    print(f\"Sum {total}: {len(pairs)} combinations → {pairs}\")"
      ],
      "metadata": {
        "id": "0gaypn1uLGic",
        "outputId": "6fce69c4-db99-4210-8985-ee0787748634",
        "colab": {
          "base_uri": "https://localhost:8080/"
        }
      },
      "execution_count": 6,
      "outputs": [
        {
          "output_type": "stream",
          "name": "stdout",
          "text": [
            "Sum 2: 1 combinations → [(1, 1)]\n",
            "Sum 3: 2 combinations → [(1, 2), (2, 1)]\n",
            "Sum 4: 3 combinations → [(1, 3), (2, 2), (3, 1)]\n",
            "Sum 5: 4 combinations → [(1, 4), (2, 3), (3, 2), (4, 1)]\n",
            "Sum 6: 5 combinations → [(1, 5), (2, 4), (3, 3), (4, 2), (5, 1)]\n",
            "Sum 7: 6 combinations → [(1, 6), (2, 5), (3, 4), (4, 3), (5, 2), (6, 1)]\n",
            "Sum 8: 5 combinations → [(2, 6), (3, 5), (4, 4), (5, 3), (6, 2)]\n",
            "Sum 9: 4 combinations → [(3, 6), (4, 5), (5, 4), (6, 3)]\n",
            "Sum 10: 3 combinations → [(4, 6), (5, 5), (6, 4)]\n",
            "Sum 11: 2 combinations → [(5, 6), (6, 5)]\n",
            "Sum 12: 1 combinations → [(6, 6)]\n"
          ]
        }
      ]
    }
  ]
}