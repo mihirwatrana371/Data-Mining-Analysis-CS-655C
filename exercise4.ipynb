{
  "nbformat": 4,
  "nbformat_minor": 0,
  "metadata": {
    "colab": {
      "provenance": []
    },
    "kernelspec": {
      "name": "python3",
      "display_name": "Python 3"
    },
    "language_info": {
      "name": "python"
    }
  },
  "cells": [
    {
      "cell_type": "code",
      "execution_count": null,
      "metadata": {
        "colab": {
          "base_uri": "https://localhost:8080/"
        },
        "id": "hHTK4LqeLzvn",
        "outputId": "c86d6c50-c9fd-4dea-9c8c-df5ecd76ac49"
      },
      "outputs": [
        {
          "output_type": "stream",
          "name": "stdout",
          "text": [
            "False\n",
            "True\n"
          ]
        }
      ],
      "source": [
        "# Function to Check for Zero Values in a Numpy Array\n",
        "import numpy as np\n",
        "\n",
        "def has_zero_values(arr):\n",
        "    # Check if there are any zero values in the array\n",
        "    return np.any(arr == 0)\n",
        "\n",
        "# Example usage:\n",
        "arr1 = np.array([1, 2, 3, 4, 5])\n",
        "arr2 = np.array([1, 2, 0, 4, 5])\n",
        "\n",
        "print(has_zero_values(arr1))  # Output: False\n",
        "print(has_zero_values(arr2))  # Output: True\n"
      ]
    },
    {
      "cell_type": "code",
      "source": [
        "# Finding Median and Mean of Passing Marks\n",
        "import numpy as np\n",
        "\n",
        "def calculate_stats(marks):\n",
        "    passing_marks = marks[marks >= 40]  # Filter passing marks\n",
        "    median = np.median(passing_marks)\n",
        "    mean = np.mean(passing_marks)\n",
        "    return median, mean\n",
        "\n",
        "# Example usage:\n",
        "marks = np.array([35, 45, 50, 30, 60, 55, 40])\n",
        "median, mean = calculate_stats(marks)\n",
        "print(\"Median of passing marks:\", median)\n",
        "print(\"Mean of passing marks:\", mean)\n"
      ],
      "metadata": {
        "colab": {
          "base_uri": "https://localhost:8080/"
        },
        "id": "rgVcEO8iMURD",
        "outputId": "8c1cc907-3c0c-430a-9a14-9890bf1b82b5"
      },
      "execution_count": null,
      "outputs": [
        {
          "output_type": "stream",
          "name": "stdout",
          "text": [
            "Median of passing marks: 50.0\n",
            "Mean of passing marks: 50.0\n"
          ]
        }
      ]
    },
    {
      "cell_type": "code",
      "source": [
        "# Finding Age and Labeling Students\n",
        "import numpy as np\n",
        "\n",
        "def label_age(dob):\n",
        "    today = np.datetime64('now')\n",
        "    ages = (today - dob).astype('timedelta64[Y]')  # Calculate ages in years\n",
        "\n",
        "    # Convert ages to integers before comparison\n",
        "    ages_int = ages.astype(int)\n",
        "\n",
        "    labels = np.select(\n",
        "        [ages_int == 18, ages_int == 19, ages_int == 20, ages_int == 21],\n",
        "        ['First', 'Second', 'Third', 'Fourth'],\n",
        "        default='Other'\n",
        "    )\n",
        "\n",
        "    return ages, labels\n",
        "\n",
        "# Example usage:\n",
        "dob = np.array(['2000-01-01', '2001-03-15', '1999-11-20'], dtype='datetime64')\n",
        "ages, labels = label_age(dob)\n",
        "for i in range(len(dob)):\n",
        "    print(f\"DOB: {dob[i]}, Age: {ages[i]}, Label: {labels[i]}\")"
      ],
      "metadata": {
        "colab": {
          "base_uri": "https://localhost:8080/"
        },
        "id": "Puk_kVEEMh33",
        "outputId": "1694bc40-c767-4d3e-e25b-253b54e70ab8"
      },
      "execution_count": null,
      "outputs": [
        {
          "output_type": "stream",
          "name": "stdout",
          "text": [
            "DOB: 2000-01-01, Age: 25 years, Label: Other\n",
            "DOB: 2001-03-15, Age: 23 years, Label: Other\n",
            "DOB: 1999-11-20, Age: 25 years, Label: Other\n"
          ]
        }
      ]
    },
    {
      "cell_type": "code",
      "source": [
        "# Sorting 2D Array by a Column\n",
        "import numpy as np\n",
        "\n",
        "def sort_2d_array(arr, column):\n",
        "    return arr[arr[:, column].argsort()]\n",
        "\n",
        "# Example usage:\n",
        "arr = np.array([[3, 1, 2], [5, 2, 1], [1, 3, 3]])\n",
        "sorted_arr = sort_2d_array(arr, 1)\n",
        "print(\"Sorted array by column 1:\")\n",
        "print(sorted_arr)\n"
      ],
      "metadata": {
        "id": "GcpG3fUVRItc",
        "outputId": "08625f75-befa-4c8a-f337-d6d88bd161d3",
        "colab": {
          "base_uri": "https://localhost:8080/"
        }
      },
      "execution_count": null,
      "outputs": [
        {
          "output_type": "stream",
          "name": "stdout",
          "text": [
            "Sorted array by column 1:\n",
            "[[3 1 2]\n",
            " [5 2 1]\n",
            " [1 3 3]]\n"
          ]
        }
      ]
    }
  ]
}