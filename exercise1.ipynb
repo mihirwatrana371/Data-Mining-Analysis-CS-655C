{
  "cells": [
    {
      "cell_type": "code",
      "execution_count": 11,
      "metadata": {
        "id": "lsGeHnIM_7H2"
      },
      "outputs": [],
      "source": [
        "# Here's the code for the word scrambler:\n",
        "\n",
        "import random\n",
        "import re\n",
        "\n",
        "def scramble_word(word):\n",
        "    if len(word) > 3:\n",
        "        middle = list(word[1:-1])\n",
        "        random.shuffle(middle)\n",
        "        return word[0] + ''.join(middle) + word[-1]\n",
        "    return word\n",
        "\n",
        "def scramble_text(text):\n",
        "    return re.sub(r'\\b\\w+\\b', lambda m: scramble_word(m.group()), text)\n",
        "\n",
        "with open(\"input.txt\", \"r\") as file:\n",
        "    text = file.read()\n",
        "\n",
        "scrambled_text = scramble_text(text)\n",
        "\n",
        "with open(\"output.txt\", \"w\") as file:\n",
        "    file.write(scrambled_text)\n",
        "\n",
        "\n",
        "# This reads from input.txt, scrambles words, and saves the result in output.txt.\n"
      ]
    }
  ],
  "metadata": {
    "colab": {
      "provenance": []
    },
    "kernelspec": {
      "display_name": "Python 3",
      "name": "python3"
    },
    "language_info": {
      "name": "python"
    }
  },
  "nbformat": 4,
  "nbformat_minor": 0
}