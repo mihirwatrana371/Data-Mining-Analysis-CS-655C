{
  "nbformat": 4,
  "nbformat_minor": 0,
  "metadata": {
    "colab": {
      "provenance": []
    },
    "kernelspec": {
      "name": "python3",
      "display_name": "Python 3"
    },
    "language_info": {
      "name": "python"
    }
  },
  "cells": [
    {
      "cell_type": "code",
      "execution_count": null,
      "metadata": {
        "colab": {
          "base_uri": "https://localhost:8080/"
        },
        "id": "wNtB4QSDJEr3",
        "outputId": "7fd2357b-430a-49e1-f267-6ba202439dd2"
      },
      "outputs": [
        {
          "output_type": "stream",
          "name": "stdout",
          "text": [
            "[[0. 1. 0.]\n",
            " [0. 0. 1.]\n",
            " [0. 1. 0.]\n",
            " [0. 1. 0.]\n",
            " [0. 1. 0.]\n",
            " [1. 0. 0.]]\n"
          ]
        }
      ],
      "source": [
        "import numpy as np\n",
        "def one_hot_encode(arr):\n",
        "  unique_values = np.unique(arr)\n",
        "\n",
        "  # Create a dictionary mapping unique values to indices.\n",
        "  value_to_index = {value: index for index, value in enumerate(unique_values)}\n",
        "\n",
        "  # Create the one-hot encoded array.\n",
        "  encoded_arr = np.zeros((len(arr), len(unique_values)))\n",
        "  for i, value in enumerate(arr):\n",
        "    encoded_arr[i, value_to_index[value]] = 1\n",
        "\n",
        "  return encoded_arr\n",
        "\n",
        "# Example usage\n",
        "arr = np.array([2, 3, 2, 2, 2, 1])\n",
        "encoded_arr = one_hot_encode(arr)\n",
        "print(encoded_arr)"
      ]
    },
    {
      "cell_type": "code",
      "source": [
        "import numpy as np\n",
        "\n",
        "arr = np.array([1, 2, 3, np.nan, 5, 6, 7, np.nan])\n",
        "arr = arr[~np.isnan(arr)]\n",
        "print(arr)"
      ],
      "metadata": {
        "colab": {
          "base_uri": "https://localhost:8080/"
        },
        "id": "kCbKOV-3LsF9",
        "outputId": "6b48523a-7a01-4fa3-ac9d-66f8992c401d"
      },
      "execution_count": null,
      "outputs": [
        {
          "output_type": "stream",
          "name": "stdout",
          "text": [
            "[1. 2. 3. 5. 6. 7.]\n"
          ]
        }
      ]
    },
    {
      "cell_type": "code",
      "source": [
        "import numpy as np\n",
        "from scipy.signal import argrelextrema\n",
        "\n",
        "a = np.array([1, 3, 7, 1, 2, 6, 0, 1])\n",
        "# Find indices of local maxima\n",
        "max_ind = argrelextrema(a, np.greater)\n",
        "\n",
        "# Print the indices\n",
        "print(max_ind[0])"
      ],
      "metadata": {
        "colab": {
          "base_uri": "https://localhost:8080/"
        },
        "id": "cdhlrUgxMdHD",
        "outputId": "5dc21521-6d3a-46f4-f3be-d129e161ae79"
      },
      "execution_count": null,
      "outputs": [
        {
          "output_type": "stream",
          "name": "stdout",
          "text": [
            "[2 5]\n"
          ]
        }
      ]
    },
    {
      "cell_type": "code",
      "source": [
        "import numpy as np\n",
        "\n",
        "def rolling_window(arr, window, stride):\n",
        "    \"\"\"Generates a 2D matrix from a 1D array using strides.\n",
        "\n",
        "    Args:\n",
        "        arr: The 1D input array.\n",
        "        window: The window length.\n",
        "        stride: The stride length.\n",
        "\n",
        "    Returns:\n",
        "        The 2D matrix.\n",
        "    \"\"\"\n",
        "    shape = (int((arr.size - window) / stride + 1), window)\n",
        "    strides = (arr.itemsize * stride, arr.itemsize)\n",
        "    return np.lib.stride_tricks.as_strided(arr, shape=shape, strides=strides)\n",
        "\n",
        "def moving_average(arr, window, stride):\n",
        "    \"\"\"Calculates the moving average of a 1D array.\n",
        "\n",
        "    Args:\n",
        "        arr: The 1D input array.\n",
        "        window: The window length.\n",
        "        stride: The stride length.\n",
        "\n",
        "    Returns:\n",
        "        The moving average array.\n",
        "    \"\"\"\n",
        "    matrix = rolling_window(arr, window, stride)\n",
        "    return np.mean(matrix, axis=1)\n",
        "\n",
        "# Example usage\n",
        "arr = np.array([0, 1, 2, 3, 4, 5, 6, 7, 8, 9, 10, 11, 12, 13, 14])\n",
        "window = 4\n",
        "stride = 2\n",
        "\n",
        "matrix = rolling_window(arr, window, stride)\n",
        "print(\"2D Matrix:\")\n",
        "print(matrix)\n",
        "\n",
        "moving_avg = moving_average(arr, window, stride)\n",
        "print(\"\\nMoving Average:\")\n",
        "print(moving_avg)"
      ],
      "metadata": {
        "colab": {
          "base_uri": "https://localhost:8080/"
        },
        "id": "BhgtDzE1Mwu_",
        "outputId": "e49fd9d2-58e3-4732-adae-9b59878d7f49"
      },
      "execution_count": null,
      "outputs": [
        {
          "output_type": "stream",
          "name": "stdout",
          "text": [
            "2D Matrix:\n",
            "[[ 0  1  2  3]\n",
            " [ 2  3  4  5]\n",
            " [ 4  5  6  7]\n",
            " [ 6  7  8  9]\n",
            " [ 8  9 10 11]\n",
            " [10 11 12 13]]\n",
            "\n",
            "Moving Average:\n",
            "[ 1.5  3.5  5.5  7.5  9.5 11.5]\n"
          ]
        }
      ]
    }
  ]
}