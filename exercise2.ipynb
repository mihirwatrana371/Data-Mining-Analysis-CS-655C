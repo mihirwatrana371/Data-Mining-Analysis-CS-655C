{
  "nbformat": 4,
  "nbformat_minor": 0,
  "metadata": {
    "colab": {
      "provenance": []
    },
    "kernelspec": {
      "name": "python3",
      "display_name": "Python 3"
    },
    "language_info": {
      "name": "python"
    }
  },
  "cells": [
    {
      "cell_type": "code",
      "execution_count": 3,
      "metadata": {
        "colab": {
          "base_uri": "https://localhost:8080/"
        },
        "id": "Vh6A9WZHApfQ",
        "outputId": "77c83229-2293-413e-f50d-87a79faddbc3"
      },
      "outputs": [
        {
          "output_type": "stream",
          "name": "stdout",
          "text": [
            "[10, 11, 12]\n"
          ]
        }
      ],
      "source": [
        "### *Q1: Find the List with the Highest Sum*\n",
        "\n",
        "lists = [[1, 2, 3], [4, 5, 6], [10, 11, 12], [7, 8, 9]]\n",
        "print(max(lists, key=sum))\n"
      ]
    },
    {
      "cell_type": "code",
      "source": [
        "### *Q2: Check if a List Contains a Sublist*\n",
        "\n",
        "def contains_sublist(main_list, sub_list):\n",
        "    return any(main_list[i:i+len(sub_list)] == sub_list for i in range(len(main_list) - len(sub_list) + 1))\n",
        "\n",
        "main_list = [1, 2, 3, 4, 5]\n",
        "sub_list = [2, 3]\n",
        "print(contains_sublist(main_list, sub_list))  # Output: True\n"
      ],
      "metadata": {
        "colab": {
          "base_uri": "https://localhost:8080/"
        },
        "id": "CaAjoy16HZJq",
        "outputId": "de6df8b5-5d42-42be-adf6-aa3fd6ec0ac0"
      },
      "execution_count": 4,
      "outputs": [
        {
          "output_type": "stream",
          "name": "stdout",
          "text": [
            "True\n"
          ]
        }
      ]
    }
  ]
}